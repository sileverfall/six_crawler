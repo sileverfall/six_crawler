{
 "cells": [
  {
   "cell_type": "code",
   "execution_count": 1,
   "metadata": {},
   "outputs": [],
   "source": [
    "from bs4 import BeautifulSoup as bs\n",
    "import json\n",
    "import os\n",
    "import re\n",
    "import requests\n",
    "import time"
   ]
  },
  {
   "cell_type": "code",
   "execution_count": 2,
   "metadata": {},
   "outputs": [],
   "source": [
    "headers = {'user-agent': 'Mozilla/5.0 (Windows NT 6.3; Win64; x64) AppleWebKit/537.36 (KHTML, like Gecko) Chrome/71.0.3578.98 Safari/537.36'}"
   ]
  },
  {
   "cell_type": "markdown",
   "metadata": {},
   "source": [
    "## 公會清單"
   ]
  },
  {
   "cell_type": "code",
   "execution_count": 3,
   "metadata": {},
   "outputs": [],
   "source": [
    "url = 'https://service.moj.gov.tw/lawer/baseSearch.aspx'"
   ]
  },
  {
   "cell_type": "code",
   "execution_count": 4,
   "metadata": {},
   "outputs": [],
   "source": [
    "res = requests.get(url,headers = headers)"
   ]
  },
  {
   "cell_type": "code",
   "execution_count": 5,
   "metadata": {},
   "outputs": [],
   "source": [
    "res.encoding = 'utf-8'"
   ]
  },
  {
   "cell_type": "code",
   "execution_count": 6,
   "metadata": {},
   "outputs": [],
   "source": [
    "soup = bs(res.text,\"lxml\")"
   ]
  },
  {
   "cell_type": "code",
   "execution_count": 13,
   "metadata": {},
   "outputs": [],
   "source": [
    "guild = [(guild.text,'https://service.moj.gov.tw/lawer/'+guild['href'].replace('Index','Prospect')) for guild in soup.select('#lstTb > tr > td > a')]"
   ]
  },
  {
   "cell_type": "code",
   "execution_count": 14,
   "metadata": {
    "scrolled": true
   },
   "outputs": [
    {
     "data": {
      "text/plain": [
       "[('台中律師公會',\n",
       "  'https://service.moj.gov.tw/lawer/associList.aspx?hDDpebIyMrBuinB+wJQEor15ZwZ8nZEVWVuO8hrA/Gs='),\n",
       " ('台北律師公會',\n",
       "  'https://service.moj.gov.tw/lawer/associList.aspx?hDDpebIyMrBpO4opi9/LC23u9Urj3Q7KLrAwrh5FqAk='),\n",
       " ('台東律師公會',\n",
       "  'https://service.moj.gov.tw/lawer/associList.aspx?hDDpebIyMrD1m5/pvoi0fpoWh6t0ws9a1tQ8XwxDs5M='),\n",
       " ('台南律師公會',\n",
       "  'https://service.moj.gov.tw/lawer/associList.aspx?hDDpebIyMrB9uYqSPR7UzHF8MhdTrx8RtJ+xuHsarjw='),\n",
       " ('宜蘭律師公會',\n",
       "  'https://service.moj.gov.tw/lawer/associList.aspx?hDDpebIyMrDoGxPg2StSD1N/SsAnSIpkMxEyKRkU+/I='),\n",
       " ('花蓮律師公會',\n",
       "  'https://service.moj.gov.tw/lawer/associList.aspx?hDDpebIyMrA8rU4GaQSyVZPNZ6Vt+2f5stE+rF7Bl4o='),\n",
       " ('南投律師公會',\n",
       "  'https://service.moj.gov.tw/lawer/associList.aspx?hDDpebIyMrCkC1pcCsqJYqvUvvnQh6pLwXU2T2hL1Bo='),\n",
       " ('屏東律師公會',\n",
       "  'https://service.moj.gov.tw/lawer/associList.aspx?hDDpebIyMrAvV9JhIInqzcQdt6+Wb4/nK8sT2qZhf94='),\n",
       " ('苗栗律師公會',\n",
       "  'https://service.moj.gov.tw/lawer/associList.aspx?hDDpebIyMrBla8PD0LdUvBL4yo01bIp8VA2BUjrMbVM='),\n",
       " ('桃園律師公會',\n",
       "  'https://service.moj.gov.tw/lawer/associList.aspx?hDDpebIyMrCZETmpmnoBEPu8BTUsNFDdh5Xrg8JIk3k='),\n",
       " ('高雄律師公會',\n",
       "  'https://service.moj.gov.tw/lawer/associList.aspx?hDDpebIyMrA0MgAsTCRKVfKkDxbHNXrLZFNIkAtclEA='),\n",
       " ('基隆律師公會',\n",
       "  'https://service.moj.gov.tw/lawer/associList.aspx?hDDpebIyMrBQ5cFBbJeNGGpTudYdY+G/NJhzxlOSqdQ='),\n",
       " ('雲林律師公會',\n",
       "  'https://service.moj.gov.tw/lawer/associList.aspx?hDDpebIyMrBpeB8jSTuh2GS2dtUaMRZsXBpa5L+xQgQ='),\n",
       " ('新竹律師公會',\n",
       "  'https://service.moj.gov.tw/lawer/associList.aspx?hDDpebIyMrDkjZYLp5lfp6tfvxp2X6jXzwtBZqZ7IIg='),\n",
       " ('嘉義律師公會',\n",
       "  'https://service.moj.gov.tw/lawer/associList.aspx?hDDpebIyMrCbwd1H2xKiyKOmmXTO9/kU/3Oi8RxsGvM='),\n",
       " ('彰化律師公會',\n",
       "  'https://service.moj.gov.tw/lawer/associList.aspx?hDDpebIyMrAh9UowGDCwAgDGT2IZVGx+8WqQTIP06ec=')]"
      ]
     },
     "execution_count": 14,
     "metadata": {},
     "output_type": "execute_result"
    }
   ],
   "source": [
    "guild"
   ]
  },
  {
   "cell_type": "code",
   "execution_count": 15,
   "metadata": {},
   "outputs": [
    {
     "data": {
      "text/plain": [
       "16"
      ]
     },
     "execution_count": 15,
     "metadata": {},
     "output_type": "execute_result"
    }
   ],
   "source": [
    "len(guild)"
   ]
  },
  {
   "cell_type": "markdown",
   "metadata": {},
   "source": [
    "## 律師列表"
   ]
  },
  {
   "cell_type": "code",
   "execution_count": 16,
   "metadata": {},
   "outputs": [],
   "source": [
    "url = guild[0][1]"
   ]
  },
  {
   "cell_type": "code",
   "execution_count": null,
   "metadata": {},
   "outputs": [],
   "source": []
  }
 ],
 "metadata": {
  "kernelspec": {
   "display_name": "Python 3",
   "language": "python",
   "name": "python3"
  },
  "language_info": {
   "codemirror_mode": {
    "name": "ipython",
    "version": 3
   },
   "file_extension": ".py",
   "mimetype": "text/x-python",
   "name": "python",
   "nbconvert_exporter": "python",
   "pygments_lexer": "ipython3",
   "version": "3.7.4"
  }
 },
 "nbformat": 4,
 "nbformat_minor": 2
}
